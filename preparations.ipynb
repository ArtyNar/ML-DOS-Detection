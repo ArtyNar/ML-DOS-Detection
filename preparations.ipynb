{
 "cells": [
  {
   "attachments": {},
   "cell_type": "markdown",
   "metadata": {},
   "source": [
    "\n",
    "**This file prepares the data we will need for machine learning.**\n",
    "\n",
    "It opens specified Wireshark capture files and cleans it up in an appropriate manner."
   ]
  },
  {
   "cell_type": "code",
   "execution_count": 154,
   "metadata": {},
   "outputs": [],
   "source": [
    "# Imports\n",
    "from scapy.all import *\n",
    "import pandas as pd\n",
    "import ipaddress\n",
    "import csv"
   ]
  },
  {
   "attachments": {},
   "cell_type": "markdown",
   "metadata": {},
   "source": [
    "**The capture files are grabbed from the appropriate directories and labled**"
   ]
  },
  {
   "cell_type": "code",
   "execution_count": 155,
   "metadata": {},
   "outputs": [
    {
     "data": {
      "text/plain": [
       "[('captureFilesAttack/attack.pcap', 'attack'),\n",
       " ('captureFilesNormal/http-cnn2011.pcapng', 'normal'),\n",
       " ('captureFilesNormal/http-espn2012.pcapng', 'normal'),\n",
       " ('captureFilesNormal/http-msnbc.pcapng', 'normal'),\n",
       " ('captureFilesNormal/http-wiresharkdownload.pcapng', 'normal'),\n",
       " ('captureFilesNormal/ssl_saintcon.pcapng', 'normal')]"
      ]
     },
     "execution_count": 155,
     "metadata": {},
     "output_type": "execute_result"
    }
   ],
   "source": [
    "# From captureFiles directory\n",
    "files = []\n",
    "\n",
    "dir_list = os.listdir(\"./captureFilesAttack/\")\n",
    "for each in dir_list:\n",
    "    files.append((\"captureFilesAttack/\"+each,\"attack\"))\n",
    "\n",
    "dir_list = os.listdir(\"./captureFilesNormal/\")\n",
    "for each in dir_list:\n",
    "    files.append((\"captureFilesNormal/\"+each,\"normal\"))\n",
    "\n",
    "files\n"
   ]
  },
  {
   "attachments": {},
   "cell_type": "markdown",
   "metadata": {},
   "source": [
    "The following function is used for:\n",
    "1. Opening .pcapng files and converting them to a single .csv file\n",
    "2. Labeling each file's data (a common practice in supervised learning)\n",
    "3. Ensuring that there are no null values"
   ]
  },
  {
   "cell_type": "code",
   "execution_count": 156,
   "metadata": {},
   "outputs": [],
   "source": [
    "\n",
    "def processFile(pcap_file, label):\n",
    "    packets = rdpcap(pcap_file)\n",
    "    with open(\"normalizedData/normalized.csv\", \"a\") as f:\n",
    "        previous_time = None\n",
    "        for packet in packets:\n",
    "            # Restricting only to packets with IP (exludes ARP, but does not have to!)\n",
    "            if packet.haslayer('IP'):\n",
    "                # TCP-related fields\n",
    "                if packet.haslayer('TCP'):\n",
    "                    src_port = packet['TCP'].sport\n",
    "                    dst_port = packet['TCP'].dport\n",
    "                    flags = packet['TCP'].flags.value\n",
    "                    window_size = packet['TCP'].window\n",
    "                    seq_number = packet['TCP'].seq\n",
    "                    ack_number = packet['TCP'].ack\n",
    "                else:\n",
    "                    src_port, dst_port, flags, window_size, seq_number, ack_number = 0,0,0,0,0,0\n",
    "                    \n",
    "                # Ip-related fields\n",
    "                src_ip = packet['IP'].src\n",
    "                dst_ip = packet['IP'].dst\n",
    "                proto = packet['IP'].proto\n",
    "                len = packet['IP'].len\n",
    "                ttl = packet['IP'].ttl\n",
    "\n",
    "                # Getting the time delta\n",
    "                if previous_time is None:\n",
    "                    time_delta = 0.0\n",
    "                else:\n",
    "                    time_delta = packet.time - previous_time\n",
    "                previous_time = packet.time\n",
    "                \n",
    "                # Writing all to the file\n",
    "                f.write(f\"{src_ip},{dst_ip},{src_port},{dst_port},{proto},{len},{flags},{ttl},{window_size},{seq_number},{ack_number},{time_delta},{label}\\n\")"
   ]
  },
  {
   "attachments": {},
   "cell_type": "markdown",
   "metadata": {},
   "source": [
    "Now, actually doing processing on our files"
   ]
  },
  {
   "cell_type": "code",
   "execution_count": 157,
   "metadata": {},
   "outputs": [],
   "source": [
    "# Making sure the file is clean\n",
    "file_to_delete = open(\"normalizedData/normalized.csv\",'w')\n",
    "file_to_delete.write(\"source,destination,source_port,destination_port,protocol,length,flags,ttl,window_size,seq_number,ack_number,time_delta,label\\n\")\n",
    "file_to_delete.close()"
   ]
  },
  {
   "cell_type": "code",
   "execution_count": 158,
   "metadata": {},
   "outputs": [
    {
     "name": "stderr",
     "output_type": "stream",
     "text": [
      "WARNING: PcapNg: invalid comment option\n",
      "WARNING: PcapNg: invalid comment option\n",
      "WARNING: more PcapNg: invalid comment option\n"
     ]
    },
    {
     "data": {
      "text/html": [
       "<div>\n",
       "<style scoped>\n",
       "    .dataframe tbody tr th:only-of-type {\n",
       "        vertical-align: middle;\n",
       "    }\n",
       "\n",
       "    .dataframe tbody tr th {\n",
       "        vertical-align: top;\n",
       "    }\n",
       "\n",
       "    .dataframe thead th {\n",
       "        text-align: right;\n",
       "    }\n",
       "</style>\n",
       "<table border=\"1\" class=\"dataframe\">\n",
       "  <thead>\n",
       "    <tr style=\"text-align: right;\">\n",
       "      <th></th>\n",
       "      <th>source</th>\n",
       "      <th>destination</th>\n",
       "      <th>source_port</th>\n",
       "      <th>destination_port</th>\n",
       "      <th>protocol</th>\n",
       "      <th>length</th>\n",
       "      <th>flags</th>\n",
       "      <th>ttl</th>\n",
       "      <th>window_size</th>\n",
       "      <th>seq_number</th>\n",
       "      <th>ack_number</th>\n",
       "      <th>time_delta</th>\n",
       "      <th>label</th>\n",
       "    </tr>\n",
       "  </thead>\n",
       "  <tbody>\n",
       "    <tr>\n",
       "      <th>0</th>\n",
       "      <td>29.235.193.237</td>\n",
       "      <td>10.10.10.10</td>\n",
       "      <td>0</td>\n",
       "      <td>0</td>\n",
       "      <td>1</td>\n",
       "      <td>1297</td>\n",
       "      <td>0</td>\n",
       "      <td>104</td>\n",
       "      <td>0</td>\n",
       "      <td>0</td>\n",
       "      <td>0</td>\n",
       "      <td>0.000000</td>\n",
       "      <td>attack</td>\n",
       "    </tr>\n",
       "    <tr>\n",
       "      <th>1</th>\n",
       "      <td>160.30.135.89</td>\n",
       "      <td>10.10.10.10</td>\n",
       "      <td>0</td>\n",
       "      <td>0</td>\n",
       "      <td>1</td>\n",
       "      <td>391</td>\n",
       "      <td>0</td>\n",
       "      <td>98</td>\n",
       "      <td>0</td>\n",
       "      <td>0</td>\n",
       "      <td>0</td>\n",
       "      <td>0.000026</td>\n",
       "      <td>attack</td>\n",
       "    </tr>\n",
       "    <tr>\n",
       "      <th>2</th>\n",
       "      <td>61.102.151.242</td>\n",
       "      <td>10.10.10.10</td>\n",
       "      <td>0</td>\n",
       "      <td>0</td>\n",
       "      <td>1</td>\n",
       "      <td>810</td>\n",
       "      <td>0</td>\n",
       "      <td>45</td>\n",
       "      <td>0</td>\n",
       "      <td>0</td>\n",
       "      <td>0</td>\n",
       "      <td>0.000009</td>\n",
       "      <td>attack</td>\n",
       "    </tr>\n",
       "  </tbody>\n",
       "</table>\n",
       "</div>"
      ],
      "text/plain": [
       "           source  destination  source_port  destination_port  protocol  \\\n",
       "0  29.235.193.237  10.10.10.10            0                 0         1   \n",
       "1   160.30.135.89  10.10.10.10            0                 0         1   \n",
       "2  61.102.151.242  10.10.10.10            0                 0         1   \n",
       "\n",
       "   length  flags  ttl  window_size  seq_number  ack_number  time_delta   label  \n",
       "0    1297      0  104            0           0           0    0.000000  attack  \n",
       "1     391      0   98            0           0           0    0.000026  attack  \n",
       "2     810      0   45            0           0           0    0.000009  attack  "
      ]
     },
     "execution_count": 158,
     "metadata": {},
     "output_type": "execute_result"
    }
   ],
   "source": [
    "# Actually processing the files. This one takes a while.\n",
    "for pcap_file in files:\n",
    "    processFile(pcap_file[0], pcap_file[1])\n",
    "\n",
    "file = pd.read_csv('normalizedData/normalized.csv')\n",
    "file.head(3)"
   ]
  },
  {
   "attachments": {},
   "cell_type": "markdown",
   "metadata": {},
   "source": [
    "**Preparations**\n",
    "\n",
    "Since Machine Learning Models cannot work on categorical variables in the form of strings, we have to clean the data in away appropriate for ML algorithms.\n",
    "\n",
    "So, we have to convert IP addresses from dotted format to decimal"
   ]
  },
  {
   "cell_type": "code",
   "execution_count": 159,
   "metadata": {},
   "outputs": [],
   "source": [
    "# Converts dotted IP to numeric\n",
    "def ip_to_numeric(address):\n",
    "    try:\n",
    "        return int(ipaddress.ip_address(address))\n",
    "    except:\n",
    "        return address"
   ]
  },
  {
   "cell_type": "code",
   "execution_count": 160,
   "metadata": {},
   "outputs": [
    {
     "data": {
      "text/html": [
       "<div>\n",
       "<style scoped>\n",
       "    .dataframe tbody tr th:only-of-type {\n",
       "        vertical-align: middle;\n",
       "    }\n",
       "\n",
       "    .dataframe tbody tr th {\n",
       "        vertical-align: top;\n",
       "    }\n",
       "\n",
       "    .dataframe thead th {\n",
       "        text-align: right;\n",
       "    }\n",
       "</style>\n",
       "<table border=\"1\" class=\"dataframe\">\n",
       "  <thead>\n",
       "    <tr style=\"text-align: right;\">\n",
       "      <th></th>\n",
       "      <th>source</th>\n",
       "      <th>destination</th>\n",
       "      <th>source_port</th>\n",
       "      <th>destination_port</th>\n",
       "      <th>protocol</th>\n",
       "      <th>length</th>\n",
       "      <th>flags</th>\n",
       "      <th>ttl</th>\n",
       "      <th>window_size</th>\n",
       "      <th>seq_number</th>\n",
       "      <th>ack_number</th>\n",
       "      <th>time_delta</th>\n",
       "      <th>label</th>\n",
       "    </tr>\n",
       "  </thead>\n",
       "  <tbody>\n",
       "    <tr>\n",
       "      <th>0</th>\n",
       "      <td>501989869</td>\n",
       "      <td>168430090</td>\n",
       "      <td>0</td>\n",
       "      <td>0</td>\n",
       "      <td>1</td>\n",
       "      <td>1297</td>\n",
       "      <td>0</td>\n",
       "      <td>104</td>\n",
       "      <td>0</td>\n",
       "      <td>0</td>\n",
       "      <td>0</td>\n",
       "      <td>0.000000</td>\n",
       "      <td>attack</td>\n",
       "    </tr>\n",
       "    <tr>\n",
       "      <th>1</th>\n",
       "      <td>2686355289</td>\n",
       "      <td>168430090</td>\n",
       "      <td>0</td>\n",
       "      <td>0</td>\n",
       "      <td>1</td>\n",
       "      <td>391</td>\n",
       "      <td>0</td>\n",
       "      <td>98</td>\n",
       "      <td>0</td>\n",
       "      <td>0</td>\n",
       "      <td>0</td>\n",
       "      <td>0.000026</td>\n",
       "      <td>attack</td>\n",
       "    </tr>\n",
       "    <tr>\n",
       "      <th>2</th>\n",
       "      <td>1030133746</td>\n",
       "      <td>168430090</td>\n",
       "      <td>0</td>\n",
       "      <td>0</td>\n",
       "      <td>1</td>\n",
       "      <td>810</td>\n",
       "      <td>0</td>\n",
       "      <td>45</td>\n",
       "      <td>0</td>\n",
       "      <td>0</td>\n",
       "      <td>0</td>\n",
       "      <td>0.000009</td>\n",
       "      <td>attack</td>\n",
       "    </tr>\n",
       "    <tr>\n",
       "      <th>3</th>\n",
       "      <td>18314794</td>\n",
       "      <td>168430090</td>\n",
       "      <td>0</td>\n",
       "      <td>0</td>\n",
       "      <td>1</td>\n",
       "      <td>1475</td>\n",
       "      <td>0</td>\n",
       "      <td>66</td>\n",
       "      <td>0</td>\n",
       "      <td>0</td>\n",
       "      <td>0</td>\n",
       "      <td>0.000004</td>\n",
       "      <td>attack</td>\n",
       "    </tr>\n",
       "    <tr>\n",
       "      <th>4</th>\n",
       "      <td>103709945</td>\n",
       "      <td>168430090</td>\n",
       "      <td>0</td>\n",
       "      <td>0</td>\n",
       "      <td>1</td>\n",
       "      <td>694</td>\n",
       "      <td>0</td>\n",
       "      <td>90</td>\n",
       "      <td>0</td>\n",
       "      <td>0</td>\n",
       "      <td>0</td>\n",
       "      <td>0.000080</td>\n",
       "      <td>attack</td>\n",
       "    </tr>\n",
       "  </tbody>\n",
       "</table>\n",
       "</div>"
      ],
      "text/plain": [
       "       source  destination  source_port  destination_port  protocol  length  \\\n",
       "0   501989869    168430090            0                 0         1    1297   \n",
       "1  2686355289    168430090            0                 0         1     391   \n",
       "2  1030133746    168430090            0                 0         1     810   \n",
       "3    18314794    168430090            0                 0         1    1475   \n",
       "4   103709945    168430090            0                 0         1     694   \n",
       "\n",
       "   flags  ttl  window_size  seq_number  ack_number  time_delta   label  \n",
       "0      0  104            0           0           0    0.000000  attack  \n",
       "1      0   98            0           0           0    0.000026  attack  \n",
       "2      0   45            0           0           0    0.000009  attack  \n",
       "3      0   66            0           0           0    0.000004  attack  \n",
       "4      0   90            0           0           0    0.000080  attack  "
      ]
     },
     "execution_count": 160,
     "metadata": {},
     "output_type": "execute_result"
    }
   ],
   "source": [
    "update_file = file\n",
    "\n",
    "update_file['source'] = update_file['source'].apply(ip_to_numeric)\n",
    "update_file['destination'] = update_file['destination'].apply(ip_to_numeric)\n",
    "\n",
    "update_file.to_csv('normalizedData/normalized.csv', index = False)\n",
    "\n",
    "update_file.head(5)"
   ]
  },
  {
   "attachments": {},
   "cell_type": "markdown",
   "metadata": {},
   "source": [
    "Perfect! Now onto actual machine learning in ..."
   ]
  }
 ],
 "metadata": {
  "kernelspec": {
   "display_name": "Python 3",
   "language": "python",
   "name": "python3"
  },
  "language_info": {
   "codemirror_mode": {
    "name": "ipython",
    "version": 3
   },
   "file_extension": ".py",
   "mimetype": "text/x-python",
   "name": "python",
   "nbconvert_exporter": "python",
   "pygments_lexer": "ipython3",
   "version": "3.11.2"
  },
  "orig_nbformat": 4
 },
 "nbformat": 4,
 "nbformat_minor": 2
}
